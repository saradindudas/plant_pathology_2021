{
  "metadata": {
    "kernelspec": {
      "language": "python",
      "display_name": "Python 3",
      "name": "python3"
    },
    "language_info": {
      "name": "python",
      "version": "3.7.12",
      "mimetype": "text/x-python",
      "codemirror_mode": {
        "name": "ipython",
        "version": 3
      },
      "pygments_lexer": "ipython3",
      "nbconvert_exporter": "python",
      "file_extension": ".py"
    },
    "colab": {
      "provenance": []
    },
    "accelerator": "GPU",
    "gpuClass": "standard"
  },
  "nbformat_minor": 0,
  "nbformat": 4,
  "cells": [
    {
      "cell_type": "markdown",
      "source": [
        "# Plant Pathology 2021 using RMS Prop with nesterov momentum"
      ],
      "metadata": {
        "id": "BNEHMPMsewh_"
      }
    },
    {
      "cell_type": "code",
      "source": [
        "from google.colab import drive\n",
        "drive.mount('/content/gdrive')"
      ],
      "metadata": {
        "colab": {
          "base_uri": "https://localhost:8080/"
        },
        "id": "Af71mYYKSuJO",
        "outputId": "0837f03e-2754-47fe-e681-e750bbe9d013"
      },
      "execution_count": null,
      "outputs": [
        {
          "output_type": "stream",
          "name": "stdout",
          "text": "Drive already mounted at /content/gdrive; to attempt to forcibly remount, call drive.mount(\"/content/gdrive\", force_remount=True).\n"
        }
      ]
    },
    {
      "cell_type": "markdown",
      "source": [
        "## Libraries"
      ],
      "metadata": {
        "id": "ayvqABgTewiN"
      }
    },
    {
      "cell_type": "code",
      "source": [
        "import numpy as np\n",
        "import pandas as pd\n",
        "%matplotlib inline\n",
        "import seaborn as sns\n",
        "import matplotlib.pyplot as plt\n",
        "import cv2\n",
        "import os\n",
        "import warnings\n",
        "warnings.filterwarnings('ignore')\n",
        "import tensorflow as tf\n",
        "import random\n",
        "from tensorflow.keras.preprocessing.image import ImageDataGenerator\n",
        "from keras.layers import Input, Activation, Dropout, Flatten, Dense, Conv2D, MaxPooling2D, BatchNormalization, GlobalAveragePooling2D,Concatenate \n",
        "from tensorflow.keras.models import Sequential\n",
        "from tensorflow.keras.callbacks import ModelCheckpoint,EarlyStopping\n",
        "from tensorflow.keras.metrics import Precision, Recall"
      ],
      "metadata": {
        "execution": {
          "iopub.status.busy": "2023-02-21T15:02:03.018786Z",
          "iopub.execute_input": "2023-02-21T15:02:03.019186Z",
          "iopub.status.idle": "2023-02-21T15:02:10.428988Z",
          "shell.execute_reply.started": "2023-02-21T15:02:03.019086Z",
          "shell.execute_reply": "2023-02-21T15:02:10.428221Z"
        },
        "id": "PALFHhyzewiO",
        "trusted": true
      },
      "execution_count": null,
      "outputs": []
    },
    {
      "cell_type": "markdown",
      "source": [
        "# 1. Dataset"
      ],
      "metadata": {
        "id": "eQW8ku30ewiQ"
      }
    },
    {
      "cell_type": "code",
      "source": [
        "train_image_path = '/content/gdrive/MyDrive/Datasets/plant-pathology-2021-fgvc8/train_images'\n",
        "test_image_path = '/content/gdrive/MyDrive/Datasets/plant-pathology-2021-fgvc8/test_images'\n",
        "train_df_path = '/content/gdrive/MyDrive/Datasets/plant-pathology-2021-fgvc8/train.csv'\n",
        "test_df_path = '/content/gdrive/MyDrive/Datasets/plant-pathology-2021-fgvc8/sample_submission.csv'"
      ],
      "metadata": {
        "execution": {
          "iopub.status.busy": "2023-02-21T15:02:10.430335Z",
          "iopub.execute_input": "2023-02-21T15:02:10.431111Z",
          "iopub.status.idle": "2023-02-21T15:02:10.435947Z",
          "shell.execute_reply.started": "2023-02-21T15:02:10.431071Z",
          "shell.execute_reply": "2023-02-21T15:02:10.435040Z"
        },
        "id": "H5KwZxv1ewiR",
        "trusted": true
      },
      "execution_count": null,
      "outputs": []
    },
    {
      "cell_type": "code",
      "source": [
        "df_train = pd.read_csv(train_df_path)\n",
        "df_test=pd.read_csv(test_df_path)"
      ],
      "metadata": {
        "execution": {
          "iopub.status.busy": "2023-02-21T15:02:10.437014Z",
          "iopub.execute_input": "2023-02-21T15:02:10.437327Z",
          "iopub.status.idle": "2023-02-21T15:02:10.507584Z",
          "shell.execute_reply.started": "2023-02-21T15:02:10.437299Z",
          "shell.execute_reply": "2023-02-21T15:02:10.506668Z"
        },
        "id": "eyfrTgVqewiR",
        "trusted": true
      },
      "execution_count": null,
      "outputs": []
    },
    {
      "cell_type": "code",
      "source": [
        "df_test"
      ],
      "metadata": {
        "execution": {
          "iopub.status.busy": "2023-02-21T15:02:10.509731Z",
          "iopub.execute_input": "2023-02-21T15:02:10.509983Z",
          "iopub.status.idle": "2023-02-21T15:02:10.528514Z",
          "shell.execute_reply.started": "2023-02-21T15:02:10.509956Z",
          "shell.execute_reply": "2023-02-21T15:02:10.527838Z"
        },
        "id": "TXjwT7GmewiS",
        "trusted": true
      },
      "execution_count": null,
      "outputs": []
    },
    {
      "cell_type": "code",
      "source": [
        "df_train.labels.value_counts()"
      ],
      "metadata": {
        "execution": {
          "iopub.status.busy": "2023-02-21T15:02:10.529800Z",
          "iopub.execute_input": "2023-02-21T15:02:10.530156Z",
          "iopub.status.idle": "2023-02-21T15:02:10.546090Z",
          "shell.execute_reply.started": "2023-02-21T15:02:10.530128Z",
          "shell.execute_reply": "2023-02-21T15:02:10.545269Z"
        },
        "id": "VKLIgXpnewiS",
        "trusted": true
      },
      "execution_count": null,
      "outputs": []
    },
    {
      "cell_type": "code",
      "source": [
        "plt.figure(figsize=(15,12))\n",
        "labels = sns.barplot(df_train.labels.value_counts().index,df_train.labels.value_counts())\n",
        "for item in labels.get_xticklabels():\n",
        "    item.set_rotation(45)"
      ],
      "metadata": {
        "execution": {
          "iopub.status.busy": "2023-02-21T15:02:10.547770Z",
          "iopub.execute_input": "2023-02-21T15:02:10.548002Z",
          "iopub.status.idle": "2023-02-21T15:02:10.961518Z",
          "shell.execute_reply.started": "2023-02-21T15:02:10.547977Z",
          "shell.execute_reply": "2023-02-21T15:02:10.960616Z"
        },
        "id": "lGqXQm0iewiT",
        "trusted": true
      },
      "execution_count": null,
      "outputs": []
    },
    {
      "cell_type": "code",
      "source": [
        "print('df_train', df_train.shape)"
      ],
      "metadata": {
        "execution": {
          "iopub.status.busy": "2023-02-21T15:02:10.962906Z",
          "iopub.execute_input": "2023-02-21T15:02:10.963150Z",
          "iopub.status.idle": "2023-02-21T15:02:10.968512Z",
          "shell.execute_reply.started": "2023-02-21T15:02:10.963123Z",
          "shell.execute_reply": "2023-02-21T15:02:10.967422Z"
        },
        "id": "bluliaWkewiU",
        "trusted": true
      },
      "execution_count": null,
      "outputs": []
    },
    {
      "cell_type": "code",
      "source": [
        "print(df_train[0:10])"
      ],
      "metadata": {
        "execution": {
          "iopub.status.busy": "2023-02-21T15:02:10.970022Z",
          "iopub.execute_input": "2023-02-21T15:02:10.970252Z",
          "iopub.status.idle": "2023-02-21T15:02:10.982817Z",
          "shell.execute_reply.started": "2023-02-21T15:02:10.970227Z",
          "shell.execute_reply": "2023-02-21T15:02:10.981970Z"
        },
        "id": "-xlRpuYIewiU",
        "trusted": true
      },
      "execution_count": null,
      "outputs": []
    },
    {
      "cell_type": "code",
      "source": [
        "img=plt.imread(train_image_path+\"/\"+df_train[\"image\"][0])"
      ],
      "metadata": {
        "execution": {
          "iopub.status.busy": "2023-02-21T15:02:10.984347Z",
          "iopub.execute_input": "2023-02-21T15:02:10.985039Z",
          "iopub.status.idle": "2023-02-21T15:02:11.275540Z",
          "shell.execute_reply.started": "2023-02-21T15:02:10.984993Z",
          "shell.execute_reply": "2023-02-21T15:02:11.274642Z"
        },
        "id": "mlMf8rdsewiU",
        "trusted": true
      },
      "execution_count": null,
      "outputs": []
    },
    {
      "cell_type": "code",
      "source": [
        "img.shape"
      ],
      "metadata": {
        "execution": {
          "iopub.status.busy": "2023-02-21T15:02:11.279193Z",
          "iopub.execute_input": "2023-02-21T15:02:11.279726Z",
          "iopub.status.idle": "2023-02-21T15:02:11.284714Z",
          "shell.execute_reply.started": "2023-02-21T15:02:11.279688Z",
          "shell.execute_reply": "2023-02-21T15:02:11.284046Z"
        },
        "id": "KQ_hDCAjewiV",
        "trusted": true
      },
      "execution_count": null,
      "outputs": []
    },
    {
      "cell_type": "code",
      "source": [
        "plt.imshow(img)"
      ],
      "metadata": {
        "execution": {
          "iopub.status.busy": "2023-02-21T15:02:11.285676Z",
          "iopub.execute_input": "2023-02-21T15:02:11.286458Z",
          "iopub.status.idle": "2023-02-21T15:02:13.311122Z",
          "shell.execute_reply.started": "2023-02-21T15:02:11.286424Z",
          "shell.execute_reply": "2023-02-21T15:02:13.310473Z"
        },
        "id": "xh5E37kJewiV",
        "trusted": true
      },
      "execution_count": null,
      "outputs": []
    },
    {
      "cell_type": "code",
      "source": [
        "df_train[\"image\"][0]"
      ],
      "metadata": {
        "execution": {
          "iopub.status.busy": "2023-02-21T15:02:13.312521Z",
          "iopub.execute_input": "2023-02-21T15:02:13.312984Z",
          "iopub.status.idle": "2023-02-21T15:02:13.318892Z",
          "shell.execute_reply.started": "2023-02-21T15:02:13.312953Z",
          "shell.execute_reply": "2023-02-21T15:02:13.317946Z"
        },
        "id": "UFF-mFSeewiW",
        "trusted": true
      },
      "execution_count": null,
      "outputs": []
    },
    {
      "cell_type": "code",
      "source": [
        "img=plt.imread(train_image_path+\"/\"+df_train[\"image\"][1])"
      ],
      "metadata": {
        "execution": {
          "iopub.status.busy": "2023-02-21T15:02:13.320131Z",
          "iopub.execute_input": "2023-02-21T15:02:13.320355Z",
          "iopub.status.idle": "2023-02-21T15:02:13.589610Z",
          "shell.execute_reply.started": "2023-02-21T15:02:13.320329Z",
          "shell.execute_reply": "2023-02-21T15:02:13.588865Z"
        },
        "id": "k7F1E6q8ewiW",
        "trusted": true
      },
      "execution_count": null,
      "outputs": []
    },
    {
      "cell_type": "code",
      "source": [
        "img.shape"
      ],
      "metadata": {
        "execution": {
          "iopub.status.busy": "2023-02-21T15:02:13.590924Z",
          "iopub.execute_input": "2023-02-21T15:02:13.591160Z",
          "iopub.status.idle": "2023-02-21T15:02:13.596872Z",
          "shell.execute_reply.started": "2023-02-21T15:02:13.591135Z",
          "shell.execute_reply": "2023-02-21T15:02:13.596224Z"
        },
        "id": "qFbtg-FdewiX",
        "trusted": true
      },
      "execution_count": null,
      "outputs": []
    },
    {
      "cell_type": "code",
      "source": [
        "plt.imshow(img)"
      ],
      "metadata": {
        "execution": {
          "iopub.status.busy": "2023-02-21T15:02:13.598099Z",
          "iopub.execute_input": "2023-02-21T15:02:13.598594Z",
          "iopub.status.idle": "2023-02-21T15:02:15.377211Z",
          "shell.execute_reply.started": "2023-02-21T15:02:13.598561Z",
          "shell.execute_reply": "2023-02-21T15:02:15.376300Z"
        },
        "id": "WRmHtZDAewiX",
        "trusted": true
      },
      "execution_count": null,
      "outputs": []
    },
    {
      "cell_type": "code",
      "source": [
        "df_train[\"image\"][1]"
      ],
      "metadata": {
        "execution": {
          "iopub.status.busy": "2023-02-21T15:02:15.378413Z",
          "iopub.execute_input": "2023-02-21T15:02:15.378702Z",
          "iopub.status.idle": "2023-02-21T15:02:15.384845Z",
          "shell.execute_reply.started": "2023-02-21T15:02:15.378673Z",
          "shell.execute_reply": "2023-02-21T15:02:15.383928Z"
        },
        "id": "nG-10wbKewiY",
        "trusted": true
      },
      "execution_count": null,
      "outputs": []
    },
    {
      "cell_type": "markdown",
      "source": [
        "# 2. Data Augumentation"
      ],
      "metadata": {
        "id": "hyrkJqBUewiY"
      }
    },
    {
      "cell_type": "code",
      "source": [
        "HEIGHT = 128\n",
        "WIDTH= 128\n",
        "SEED = 42\n",
        "BATCH_SIZE= 30"
      ],
      "metadata": {
        "execution": {
          "iopub.status.busy": "2023-02-21T15:02:15.386050Z",
          "iopub.execute_input": "2023-02-21T15:02:15.386274Z",
          "iopub.status.idle": "2023-02-21T15:02:15.396292Z",
          "shell.execute_reply.started": "2023-02-21T15:02:15.386249Z",
          "shell.execute_reply": "2023-02-21T15:02:15.395584Z"
        },
        "id": "CpAmTBxiewiY",
        "trusted": true
      },
      "execution_count": null,
      "outputs": []
    },
    {
      "cell_type": "code",
      "source": [
        "train_datagen = ImageDataGenerator(rescale = 1/255.,\n",
        "    rotation_range=20,\n",
        "    width_shift_range=0.2,\n",
        "    height_shift_range=0.2,\n",
        "    horizontal_flip=True,\n",
        "    validation_split = 0.2,\n",
        "    zoom_range = 0.2,\n",
        "    shear_range = 0.2,\n",
        "    vertical_flip = False)"
      ],
      "metadata": {
        "execution": {
          "iopub.status.busy": "2023-02-21T15:02:15.397759Z",
          "iopub.execute_input": "2023-02-21T15:02:15.398307Z",
          "iopub.status.idle": "2023-02-21T15:02:15.409071Z",
          "shell.execute_reply.started": "2023-02-21T15:02:15.398265Z",
          "shell.execute_reply": "2023-02-21T15:02:15.408010Z"
        },
        "id": "j7qStSGzewiZ",
        "trusted": true
      },
      "execution_count": null,
      "outputs": []
    },
    {
      "cell_type": "code",
      "source": [
        "train_dataset = train_datagen.flow_from_dataframe(\n",
        "    df_train,\n",
        "    directory = train_image_path,\n",
        "    x_col = \"image\",\n",
        "    y_col = \"labels\",\n",
        "    target_size = (HEIGHT,WIDTH),\n",
        "    class_mode='categorical',\n",
        "    batch_size = BATCH_SIZE,\n",
        "    subset = \"training\",\n",
        "    shuffle = True,\n",
        "    seed = SEED,\n",
        "    validate_filenames = False)"
      ],
      "metadata": {
        "execution": {
          "iopub.status.busy": "2023-02-21T15:02:15.410343Z",
          "iopub.execute_input": "2023-02-21T15:02:15.411225Z",
          "iopub.status.idle": "2023-02-21T15:02:15.482603Z",
          "shell.execute_reply.started": "2023-02-21T15:02:15.411175Z",
          "shell.execute_reply": "2023-02-21T15:02:15.481699Z"
        },
        "id": "kKg2NllZewiZ",
        "trusted": true
      },
      "execution_count": null,
      "outputs": []
    },
    {
      "cell_type": "code",
      "source": [
        "validation_dataset = train_datagen.flow_from_dataframe(\n",
        "    df_train,\n",
        "    directory = train_image_path,\n",
        "    x_col = \"image\",\n",
        "    y_col = \"labels\",\n",
        "    target_size = (HEIGHT,WIDTH),\n",
        "    class_mode='categorical',\n",
        "    batch_size = BATCH_SIZE,\n",
        "    subset = \"validation\",\n",
        "    shuffle = True,\n",
        "    seed = SEED,\n",
        "    validate_filenames = False)"
      ],
      "metadata": {
        "execution": {
          "iopub.status.busy": "2023-02-21T15:02:15.484226Z",
          "iopub.execute_input": "2023-02-21T15:02:15.484563Z",
          "iopub.status.idle": "2023-02-21T15:02:15.526106Z",
          "shell.execute_reply.started": "2023-02-21T15:02:15.484522Z",
          "shell.execute_reply": "2023-02-21T15:02:15.525130Z"
        },
        "id": "nCpiv4YnewiZ",
        "trusted": true
      },
      "execution_count": null,
      "outputs": []
    },
    {
      "cell_type": "code",
      "source": [
        "test_datagen = ImageDataGenerator(\n",
        "    rescale = 1./255\n",
        ")"
      ],
      "metadata": {
        "execution": {
          "iopub.status.busy": "2023-02-21T15:02:15.527236Z",
          "iopub.execute_input": "2023-02-21T15:02:15.527505Z",
          "iopub.status.idle": "2023-02-21T15:02:15.532907Z",
          "shell.execute_reply.started": "2023-02-21T15:02:15.527455Z",
          "shell.execute_reply": "2023-02-21T15:02:15.531834Z"
        },
        "id": "a_fLTLsSewia",
        "trusted": true
      },
      "execution_count": null,
      "outputs": []
    },
    {
      "cell_type": "code",
      "source": [
        "INPUT_SIZE = (HEIGHT,WIDTH,3)\n",
        "test_dataset=test_datagen.flow_from_dataframe(\n",
        "    df_test,\n",
        "    directory=test_image_path,\n",
        "    x_col='image',\n",
        "    y_col=None,\n",
        "    class_mode=None,\n",
        "    shuffle = False,\n",
        "    target_size=INPUT_SIZE[:2])"
      ],
      "metadata": {
        "execution": {
          "iopub.status.busy": "2023-02-21T15:02:15.534242Z",
          "iopub.execute_input": "2023-02-21T15:02:15.534481Z",
          "iopub.status.idle": "2023-02-21T15:02:15.555657Z",
          "shell.execute_reply.started": "2023-02-21T15:02:15.534441Z",
          "shell.execute_reply": "2023-02-21T15:02:15.554736Z"
        },
        "id": "N-mEi2gkewia",
        "trusted": true
      },
      "execution_count": null,
      "outputs": []
    },
    {
      "cell_type": "markdown",
      "source": [
        "# 3. Model Training"
      ],
      "metadata": {
        "id": "Uf6FzIVbewia"
      }
    },
    {
      "cell_type": "code",
      "source": [
        "df_train[\"labels\"].unique()"
      ],
      "metadata": {
        "execution": {
          "iopub.status.busy": "2023-02-21T15:02:15.558832Z",
          "iopub.execute_input": "2023-02-21T15:02:15.559069Z",
          "iopub.status.idle": "2023-02-21T15:02:15.567244Z",
          "shell.execute_reply.started": "2023-02-21T15:02:15.559043Z",
          "shell.execute_reply": "2023-02-21T15:02:15.566162Z"
        },
        "colab": {
          "base_uri": "https://localhost:8080/"
        },
        "id": "dMbBpjEdewib",
        "outputId": "a3bf2fc0-d584-4929-94d0-ad20a66b1dcf",
        "trusted": true
      },
      "execution_count": null,
      "outputs": [
        {
          "output_type": "execute_result",
          "execution_count": 24,
          "data": {
            "text/plain": [
              "array(['healthy', 'scab frog_eye_leaf_spot complex', 'scab', 'complex',\n",
              "       'rust', 'frog_eye_leaf_spot', 'powdery_mildew',\n",
              "       'scab frog_eye_leaf_spot', 'frog_eye_leaf_spot complex',\n",
              "       'rust frog_eye_leaf_spot', 'powdery_mildew complex',\n",
              "       'rust complex'], dtype=object)"
            ]
          },
          "metadata": {}
        }
      ]
    },
    {
      "cell_type": "code",
      "source": [
        "# inception module\n",
        "\n",
        "from keras.layers import Conv2D, MaxPooling2D, concatenate\n",
        "from keras.initializers import lecun_uniform\n",
        "\n",
        "def inception_module(x, filter_1x1, filter_3x3, filter_5x5):\n",
        "    # filter_1x1 = 64\n",
        "    # filter_3x3 = 32\n",
        "    # filter_5x5 = 16\n",
        "    conv_1x1_1 = Conv2D(filter_1x1, (1,1), activation='relu', padding='same', kernel_initializer=lecun_uniform(seed=1))(x)\n",
        "    conv_3x3_1 = Conv2D(filter_3x3, (3,3), activation='relu', padding='same', kernel_initializer=lecun_uniform(seed=1))(conv_1x1_1)\n",
        "    conv_max_1 = MaxPooling2D((3, 3), strides=(1, 1), padding='same')(conv_3x3_1)\n",
        "\n",
        "    conv_1x1_2 = Conv2D(filter_1x1, (1,1), activation='relu', padding='same', kernel_initializer=lecun_uniform(seed=1))(x)\n",
        "    conv_5x5_2 = Conv2D(filter_5x5, (5,5), activation='relu', padding='same', kernel_initializer=lecun_uniform(seed=1))(conv_1x1_4)\n",
        "    conv_2x2_2 = Conv2D(filter_2x2, (2,2), activation='relu', padding='same', kernel_initializer=lecun_uniform(seed=1))(conv_5x5_4)\n",
        "\n",
        "    output = concatenate([conv_max_1, conv_2x2_2], axis=3)\n",
        "    return output"
      ],
      "metadata": {
        "execution": {
          "iopub.status.busy": "2023-02-21T15:08:31.795108Z",
          "iopub.execute_input": "2023-02-21T15:08:31.795559Z",
          "iopub.status.idle": "2023-02-21T15:08:31.807424Z",
          "shell.execute_reply.started": "2023-02-21T15:08:31.795506Z",
          "shell.execute_reply": "2023-02-21T15:08:31.806043Z"
        },
        "id": "wUnAb8_7ewib",
        "trusted": true
      },
      "execution_count": null,
      "outputs": []
    },
    {
      "cell_type": "code",
      "source": [
        "model = Sequential()"
      ],
      "metadata": {
        "execution": {
          "iopub.status.busy": "2023-02-21T15:08:44.210195Z",
          "iopub.execute_input": "2023-02-21T15:08:44.210558Z",
          "iopub.status.idle": "2023-02-21T15:08:44.272629Z",
          "shell.execute_reply.started": "2023-02-21T15:08:44.210521Z",
          "shell.execute_reply": "2023-02-21T15:08:44.271770Z"
        },
        "id": "xPMy8v5zewic",
        "trusted": true
      },
      "execution_count": null,
      "outputs": []
    },
    {
      "cell_type": "code",
      "source": [
        "from tensorflow.keras.layers import Conv2D, MaxPooling2D, Dropout, LeakyReLU\n",
        "\n",
        "# model = Sequential()\n",
        "\n",
        "input_shape = Input(shape=(HEIGHT, WIDTH, 3))\n",
        "\n",
        "x = Conv2D(filters=128, kernel_size=(3, 3), activation=LeakyReLU(), kernel_initializer='he_normal', input_shape=(HEIGHT, WIDTH, 3))(input_shape)\n",
        "# model.add(MaxPooling2D(pool_size=(2, 2)))\n",
        "x = Dropout(0.3)(x)\n",
        "x = Conv2D(filters=64, kernel_size=(3, 3), kernel_initializer='he_uniform', activation=\"relu\")(x)\n",
        "x = MaxPooling2D(pool_size=(2, 2))(x)\n",
        "x = Dropout(0.25)(x)\n",
        "\n",
        "x = inception_module(x, 64, 32, 16)\n",
        "\n",
        "x = Conv2D(filters=32, kernel_size=(3, 3), activation=LeakyReLU(), kernel_initializer='he_normal')(x)\n",
        "# model.add(MaxPooling2D(pool_size=(2, 2)))\n",
        "x = Dropout(0.3)(x)\n",
        "x = Conv2D(filters=16, kernel_size=(3, 3), kernel_initializer='he_uniform', activation='relu')(x)\n",
        "x = MaxPooling2D(pool_size=(2, 2))(x)\n",
        "x = Dropout(0.25)(x)\n",
        "\n",
        "x = inception_module(x, 32, 16, 8)\n",
        "\n",
        "x = Conv2D(filters=8, kernel_size=(3, 3), kernel_initializer='he_uniform', activation=\"relu\")(x)\n",
        "x = MaxPooling2D(pool_size=(2, 2))(x)\n",
        "x = Dropout(0.5)(x)\n",
        "# model.add(Conv2D(filters=64, kernel_size=(5, 5), activation='relu'))\n",
        "# model.add(MaxPooling2D(pool_size=(2, 2)))\n",
        "# model.add(Dropout(0.5))\n",
        "x = Flatten()(x)\n",
        "x = Dense(4096, activation='relu', kernel_initializer='he_uniform')(x)\n",
        "x = Dense(1024, activation='relu', kernel_initializer='he_uniform')(x)\n",
        "x = Dense(128, activation='relu', kernel_initializer='he_uniform')(x)\n",
        "x = Dropout(0.5)(x)\n",
        "x = BatchNormalization()(x)\n",
        "output = Dense(6,activation='softmax', kernel_initializer='he_uniform')(x)"
      ],
      "metadata": {
        "execution": {
          "iopub.status.busy": "2023-02-21T15:13:03.280009Z",
          "iopub.execute_input": "2023-02-21T15:13:03.280643Z",
          "iopub.status.idle": "2023-02-21T15:13:04.345304Z",
          "shell.execute_reply.started": "2023-02-21T15:13:03.280575Z",
          "shell.execute_reply": "2023-02-21T15:13:04.344141Z"
        },
        "id": "L9IaeAyZewic",
        "trusted": true
      },
      "execution_count": null,
      "outputs": []
    },
    {
      "cell_type": "code",
      "source": [
        "from tensorflow.keras.models import Model\n",
        "model = Model(inputs=input_shape, outputs=output)"
      ],
      "metadata": {
        "execution": {
          "iopub.status.busy": "2023-02-21T15:15:50.431879Z",
          "iopub.execute_input": "2023-02-21T15:15:50.432360Z",
          "iopub.status.idle": "2023-02-21T15:15:50.446197Z",
          "shell.execute_reply.started": "2023-02-21T15:15:50.432325Z",
          "shell.execute_reply": "2023-02-21T15:15:50.445572Z"
        },
        "id": "5jjAgkldewic",
        "trusted": true
      },
      "execution_count": null,
      "outputs": []
    },
    {
      "cell_type": "code",
      "source": [
        "print(model.summary())"
      ],
      "metadata": {
        "execution": {
          "iopub.status.busy": "2023-02-21T15:15:52.263769Z",
          "iopub.execute_input": "2023-02-21T15:15:52.264244Z",
          "iopub.status.idle": "2023-02-21T15:15:52.303642Z",
          "shell.execute_reply.started": "2023-02-21T15:15:52.264210Z",
          "shell.execute_reply": "2023-02-21T15:15:52.302801Z"
        },
        "id": "78C9GcVGewid",
        "trusted": true
      },
      "execution_count": null,
      "outputs": []
    },
    {
      "cell_type": "code",
      "source": [
        "model.compile(optimizer=tf.keras.optimizers.RMSprop(learning_rate=0.001, rho = 0.9, momentum = 0.5, nesterov=True),\n",
        "    loss='categorical_crossentropy',\n",
        "    metrics=['accuracy', Precision(), Recall()])"
      ],
      "metadata": {
        "execution": {
          "iopub.status.busy": "2023-02-21T15:16:00.636658Z",
          "iopub.execute_input": "2023-02-21T15:16:00.637105Z",
          "iopub.status.idle": "2023-02-21T15:16:00.656875Z",
          "shell.execute_reply.started": "2023-02-21T15:16:00.637074Z",
          "shell.execute_reply": "2023-02-21T15:16:00.655922Z"
        },
        "id": "imQNtqFfewid",
        "trusted": true
      },
      "execution_count": null,
      "outputs": []
    },
    {
      "cell_type": "code",
      "source": [
        "checkpoint_path = \"./PP2021_model.h5\"\n",
        "checkpoint_dir = os.path.dirname(checkpoint_path)\n",
        "\n",
        "# Create a callback that saves the model\n",
        "cp_callback = tf.keras.callbacks.ModelCheckpoint(filepath=checkpoint_path,\n",
        "                                                 monitor='val_loss',\n",
        "                                                 save_best_only=True,\n",
        "                                                 verbose=1)"
      ],
      "metadata": {
        "execution": {
          "iopub.status.busy": "2023-02-21T15:16:03.136212Z",
          "iopub.execute_input": "2023-02-21T15:16:03.136501Z",
          "iopub.status.idle": "2023-02-21T15:16:03.141627Z",
          "shell.execute_reply.started": "2023-02-21T15:16:03.136459Z",
          "shell.execute_reply": "2023-02-21T15:16:03.140731Z"
        },
        "id": "c2qGpz81ewid",
        "trusted": true
      },
      "execution_count": null,
      "outputs": []
    },
    {
      "cell_type": "code",
      "source": [
        "early_stopping = EarlyStopping(\n",
        "                        monitor='val_loss',\n",
        "                        min_delta=0.0,\n",
        "                        patience=5,\n",
        "                        verbose=1\n",
        "                )"
      ],
      "metadata": {
        "execution": {
          "iopub.status.busy": "2023-02-21T15:16:10.593377Z",
          "iopub.execute_input": "2023-02-21T15:16:10.594253Z",
          "iopub.status.idle": "2023-02-21T15:16:10.598707Z",
          "shell.execute_reply.started": "2023-02-21T15:16:10.594215Z",
          "shell.execute_reply": "2023-02-21T15:16:10.597930Z"
        },
        "id": "nasLlLjHewie",
        "trusted": true
      },
      "execution_count": null,
      "outputs": []
    },
    {
      "cell_type": "code",
      "source": [
        "fit = model.fit_generator(train_dataset,\n",
        "                                  validation_data=validation_dataset,\n",
        "                                  epochs=10,\n",
        "                                  steps_per_epoch=train_dataset.samples//BATCH_SIZE,\n",
        "                                  validation_steps=validation_dataset.samples//BATCH_SIZE,\n",
        "                                  callbacks=[cp_callback, early_stopping]\n",
        "                                 )"
      ],
      "metadata": {
        "execution": {
          "iopub.status.busy": "2023-02-21T15:16:15.746106Z",
          "iopub.execute_input": "2023-02-21T15:16:15.746409Z"
        },
        "id": "AUEdtUfvewie",
        "trusted": true
      },
      "execution_count": null,
      "outputs": []
    },
    {
      "cell_type": "code",
      "source": [
        "plt.clf()\n",
        "fig,ax=plt.subplots(1,2, figsize=(16.0, 6.0))\n",
        "ax[0].set_xlabel('epochs')\n",
        "ax[0].plot(np.arange(1, len(fit.history['loss'])+1),\n",
        "         fit.history['loss'], label='loss')\n",
        "ax[0].plot(np.arange(1, len(fit.history['loss'])+1),\n",
        "         fit.history['val_loss'], label='val_loss')\n",
        "ax[0].set_title(\"Loss\")\n",
        "ax[0].legend()\n",
        "ax[1].set_xlabel('epochs')\n",
        "ax[1].plot(np.arange(1, len(fit.history['accuracy'])+1),\n",
        "         fit.history['accuracy'], label='accuracy')\n",
        "ax[1].plot(np.arange(1, len(fit.history['accuracy'])+1),\n",
        "         fit.history['val_accuracy'], label='val_accuracy')\n",
        "ax[1].set_title(\"Accuracy\")\n",
        "ax[1].legend()\n",
        "plt.show()"
      ],
      "metadata": {
        "execution": {
          "iopub.status.busy": "2023-02-21T15:02:15.950206Z",
          "iopub.status.idle": "2023-02-21T15:02:15.950556Z",
          "shell.execute_reply.started": "2023-02-21T15:02:15.950352Z",
          "shell.execute_reply": "2023-02-21T15:02:15.950367Z"
        },
        "id": "aspD6xSaewie",
        "trusted": true
      },
      "execution_count": null,
      "outputs": []
    },
    {
      "cell_type": "markdown",
      "source": [
        "# 4. Prediction"
      ],
      "metadata": {
        "id": "ROxvGbW-ewif"
      }
    },
    {
      "cell_type": "code",
      "source": [
        "train_dataset.class_indices.items()"
      ],
      "metadata": {
        "execution": {
          "iopub.status.busy": "2023-02-21T15:02:15.951932Z",
          "iopub.status.idle": "2023-02-21T15:02:15.952482Z",
          "shell.execute_reply.started": "2023-02-21T15:02:15.952284Z",
          "shell.execute_reply": "2023-02-21T15:02:15.952303Z"
        },
        "id": "6XxJrJJeewif",
        "trusted": true
      },
      "execution_count": null,
      "outputs": []
    },
    {
      "cell_type": "code",
      "source": [
        "model = tf.keras.models.load_model(\"./PP2021_model.h5\")"
      ],
      "metadata": {
        "execution": {
          "iopub.status.busy": "2023-02-21T15:02:15.954425Z",
          "iopub.status.idle": "2023-02-21T15:02:15.954760Z",
          "shell.execute_reply.started": "2023-02-21T15:02:15.954597Z",
          "shell.execute_reply": "2023-02-21T15:02:15.954613Z"
        },
        "id": "j8MDELerewif",
        "trusted": true
      },
      "execution_count": null,
      "outputs": []
    },
    {
      "cell_type": "code",
      "source": [
        "preds = model.predict(test_dataset)\n",
        "print(preds)"
      ],
      "metadata": {
        "execution": {
          "iopub.status.busy": "2023-02-21T15:02:15.955367Z",
          "iopub.status.idle": "2023-02-21T15:02:15.955683Z",
          "shell.execute_reply.started": "2023-02-21T15:02:15.955522Z",
          "shell.execute_reply": "2023-02-21T15:02:15.955537Z"
        },
        "id": "7bOCslS2ewig",
        "trusted": true
      },
      "execution_count": null,
      "outputs": []
    },
    {
      "cell_type": "code",
      "source": [
        "preds_disease_ind=np.argmax(preds, axis=-1)"
      ],
      "metadata": {
        "execution": {
          "iopub.status.busy": "2023-02-21T15:02:15.956506Z",
          "iopub.status.idle": "2023-02-21T15:02:15.956811Z",
          "shell.execute_reply.started": "2023-02-21T15:02:15.956646Z",
          "shell.execute_reply": "2023-02-21T15:02:15.956661Z"
        },
        "id": "hAbW9P7Lewig",
        "trusted": true
      },
      "execution_count": null,
      "outputs": []
    },
    {
      "cell_type": "code",
      "source": [
        "preds_disease_ind"
      ],
      "metadata": {
        "execution": {
          "iopub.status.busy": "2023-02-21T15:02:15.957990Z",
          "iopub.status.idle": "2023-02-21T15:02:15.958301Z",
          "shell.execute_reply.started": "2023-02-21T15:02:15.958142Z",
          "shell.execute_reply": "2023-02-21T15:02:15.958157Z"
        },
        "id": "oNnYaBIhewig",
        "trusted": true
      },
      "execution_count": null,
      "outputs": []
    },
    {
      "cell_type": "code",
      "source": [
        "def get_key(val):\n",
        "    for key, value in train_dataset.class_indices.items():\n",
        "        if val == value:\n",
        "            return key"
      ],
      "metadata": {
        "execution": {
          "iopub.status.busy": "2023-02-21T15:02:15.959536Z",
          "iopub.status.idle": "2023-02-21T15:02:15.959849Z",
          "shell.execute_reply.started": "2023-02-21T15:02:15.959683Z",
          "shell.execute_reply": "2023-02-21T15:02:15.959698Z"
        },
        "id": "dFLiQe4iewih",
        "trusted": true
      },
      "execution_count": null,
      "outputs": []
    },
    {
      "cell_type": "code",
      "source": [
        "for i in range(len(preds_disease_ind)):\n",
        "    df_test[\"labels\"] [i] = get_key(preds_disease_ind[i])"
      ],
      "metadata": {
        "execution": {
          "iopub.status.busy": "2023-02-21T15:02:15.961849Z",
          "iopub.status.idle": "2023-02-21T15:02:15.962326Z",
          "shell.execute_reply.started": "2023-02-21T15:02:15.962064Z",
          "shell.execute_reply": "2023-02-21T15:02:15.962088Z"
        },
        "id": "5mhMcqJSewih",
        "trusted": true
      },
      "execution_count": null,
      "outputs": []
    },
    {
      "cell_type": "code",
      "source": [
        "df_test"
      ],
      "metadata": {
        "execution": {
          "iopub.status.busy": "2023-02-21T15:02:15.963246Z",
          "iopub.status.idle": "2023-02-21T15:02:15.963733Z",
          "shell.execute_reply.started": "2023-02-21T15:02:15.963460Z",
          "shell.execute_reply": "2023-02-21T15:02:15.963499Z"
        },
        "id": "GW7cDMH7ewih",
        "trusted": true
      },
      "execution_count": null,
      "outputs": []
    },
    {
      "cell_type": "code",
      "source": [
        "df_test.to_csv('./submission.csv', index=False)"
      ],
      "metadata": {
        "execution": {
          "iopub.status.busy": "2023-02-21T15:02:15.965116Z",
          "iopub.status.idle": "2023-02-21T15:02:15.965598Z",
          "shell.execute_reply.started": "2023-02-21T15:02:15.965330Z",
          "shell.execute_reply": "2023-02-21T15:02:15.965354Z"
        },
        "id": "3T2nWbsTewii",
        "trusted": true
      },
      "execution_count": null,
      "outputs": []
    }
  ]
}